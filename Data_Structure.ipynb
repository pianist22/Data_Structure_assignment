{
 "cells": [
  {
   "cell_type": "markdown",
   "id": "d696bd66-8b06-444f-b8ae-9441d4374050",
   "metadata": {},
   "source": [
    "### 1) Discuss String slicing and provide examples."
   ]
  },
  {
   "cell_type": "code",
   "execution_count": 1,
   "id": "e7bfdd5f-2c04-4967-be0d-27d9701b066a",
   "metadata": {},
   "outputs": [
    {
     "data": {
      "text/plain": [
       "'riya'"
      ]
     },
     "execution_count": 1,
     "metadata": {},
     "output_type": "execute_result"
    }
   ],
   "source": [
    "# String Slicing is a way to get a substring by slicing the string from start to end.\n",
    "# Here the syntax is:\n",
    "# string_name[start:end]  but here string will be sliced from start to end -1 index only \n",
    "# Example:\n",
    "string1 = \"Priyanshu\"\n",
    "string1[1:5]"
   ]
  },
  {
   "cell_type": "code",
   "execution_count": 3,
   "id": "94497d38-eb51-4c15-ba25-a45779002422",
   "metadata": {},
   "outputs": [
    {
     "data": {
      "text/plain": [
       "'rynh'"
      ]
     },
     "execution_count": 3,
     "metadata": {},
     "output_type": "execute_result"
    }
   ],
   "source": [
    "# here we can provide a another parameter step size its by default value is 1.\n",
    "string1[1::2]"
   ]
  },
  {
   "cell_type": "markdown",
   "id": "e68e97e1-fefb-4791-9281-d0ad5e5d13b0",
   "metadata": {},
   "source": [
    "### 2) Explain key features of Lists in python."
   ]
  },
  {
   "cell_type": "code",
   "execution_count": 4,
   "id": "d53ced71-2e2a-448f-b650-64ad606224bb",
   "metadata": {},
   "outputs": [],
   "source": [
    "# Key Features of Lists:\n",
    "\n",
    "# Ordered:\n",
    "# Lists maintain the order of elements as they are added. This means you can access elements by their index \n",
    "# (position) within the list.\n",
    "\n",
    "# Mutable:\n",
    "# You can modify a list after it's created. This includes adding, removing, or changing elements.\n",
    "\n",
    "# Heterogeneous:\n",
    "# Lists can store elements of different data types. You can mix integers, strings, floats, booleans, and even \n",
    "# other lists within a single list.\n",
    "\n",
    "# Iterable:\n",
    "# You can loop through the elements of a list using a for loop or other iterable constructs.\n",
    "\n",
    "# Indexable:\n",
    "# You can access individual elements of a list using their index, which starts from 0 for the first element.\n",
    "\n",
    "# Slicing:\n",
    "# You can extract a portion of a list using slicing.\n",
    "\n",
    "# Nestable:\n",
    "# Lists can contain other lists as elements, allowing you to create multi-dimensional data structures."
   ]
  },
  {
   "cell_type": "markdown",
   "id": "271fdc2c-5cac-4d54-9248-bd03fa513349",
   "metadata": {},
   "source": [
    "### 3) Describe how to access,delete and modify element in the list with examples."
   ]
  },
  {
   "cell_type": "code",
   "execution_count": 5,
   "id": "875267fb-b1eb-40d4-ad36-1327e3cdb068",
   "metadata": {},
   "outputs": [
    {
     "data": {
      "text/plain": [
       "1"
      ]
     },
     "execution_count": 5,
     "metadata": {},
     "output_type": "execute_result"
    }
   ],
   "source": [
    "l = [1,2.2,True,\"Priyanshu\"]\n",
    "\n",
    "# Accessing Elements:\n",
    "# to access element of the list we can directly fetch using the indexing\n",
    "l[0]"
   ]
  },
  {
   "cell_type": "code",
   "execution_count": 6,
   "id": "1d6ecb6f-dd95-4061-9175-9bee795ca533",
   "metadata": {},
   "outputs": [
    {
     "data": {
      "text/plain": [
       "'Priyanshu'"
      ]
     },
     "execution_count": 6,
     "metadata": {},
     "output_type": "execute_result"
    }
   ],
   "source": [
    "l[-1]"
   ]
  },
  {
   "cell_type": "code",
   "execution_count": 7,
   "id": "35d5861d-d832-4818-aead-2bbb1af440fc",
   "metadata": {},
   "outputs": [
    {
     "data": {
      "text/plain": [
       "[2.2, True, 'Priyanshu']"
      ]
     },
     "execution_count": 7,
     "metadata": {},
     "output_type": "execute_result"
    }
   ],
   "source": [
    "# to access elements as a part of substring slcing is also possible \n",
    "l[1:4]"
   ]
  },
  {
   "cell_type": "code",
   "execution_count": 8,
   "id": "7ebab06c-3bbf-4976-990a-ed6b75e42feb",
   "metadata": {},
   "outputs": [],
   "source": [
    "# Adding elements:\n",
    "# using append function: adds element to the end of the list\n",
    "l.append(\"Mango\")"
   ]
  },
  {
   "cell_type": "code",
   "execution_count": 9,
   "id": "fe569631-be1c-4d96-b306-fd971cc321da",
   "metadata": {},
   "outputs": [
    {
     "data": {
      "text/plain": [
       "[1, 2.2, True, 'Priyanshu', 'Mango']"
      ]
     },
     "execution_count": 9,
     "metadata": {},
     "output_type": "execute_result"
    }
   ],
   "source": [
    "l"
   ]
  },
  {
   "cell_type": "code",
   "execution_count": 10,
   "id": "e2b019bd-5001-4bbb-96f6-795f4312211a",
   "metadata": {},
   "outputs": [
    {
     "data": {
      "text/plain": [
       "[1, 'Papaya', 2.2, True, 'Priyanshu', 'Mango']"
      ]
     },
     "execution_count": 10,
     "metadata": {},
     "output_type": "execute_result"
    }
   ],
   "source": [
    "#inserting element at a specific index \n",
    "l.insert(1,\"Papaya\")\n",
    "l"
   ]
  },
  {
   "cell_type": "code",
   "execution_count": 11,
   "id": "6f54be72-e408-4ef1-b74e-9fa8a8fc8006",
   "metadata": {},
   "outputs": [
    {
     "data": {
      "text/plain": [
       "[5, 'Papaya', 2.2, True, 'Priyanshu', 'Mango']"
      ]
     },
     "execution_count": 11,
     "metadata": {},
     "output_type": "execute_result"
    }
   ],
   "source": [
    "# modify elements:\n",
    "l[0] = 5\n",
    "l"
   ]
  },
  {
   "cell_type": "code",
   "execution_count": 12,
   "id": "95364f3a-43f1-4b7e-a00e-5ecdbc2defa1",
   "metadata": {},
   "outputs": [
    {
     "data": {
      "text/plain": [
       "[5, 'Papaya', 2.2, True, 'Priyanshu']"
      ]
     },
     "execution_count": 12,
     "metadata": {},
     "output_type": "execute_result"
    }
   ],
   "source": [
    "# deleting elements from list:\n",
    "l.pop() # deletes the last element from the list\n",
    "l"
   ]
  },
  {
   "cell_type": "code",
   "execution_count": 13,
   "id": "918a8b6b-6361-4809-8f6e-6231209445f3",
   "metadata": {},
   "outputs": [
    {
     "data": {
      "text/plain": [
       "[5, 2.2, True, 'Priyanshu']"
      ]
     },
     "execution_count": 13,
     "metadata": {},
     "output_type": "execute_result"
    }
   ],
   "source": [
    "l.remove(\"Papaya\") # to delete specific element from the list\n",
    "l"
   ]
  },
  {
   "cell_type": "markdown",
   "id": "0e901727-35a3-4abd-ac12-90a80b5d100c",
   "metadata": {},
   "source": [
    "### 4) Compare and contract tuple and list with examples."
   ]
  },
  {
   "cell_type": "code",
   "execution_count": 14,
   "id": "24b61779-c4e4-4a29-b092-ab30d4811e54",
   "metadata": {},
   "outputs": [],
   "source": [
    "# In Python, tuples and lists are both used to store collections of items, but they have key differences:\n",
    "\n",
    "# 1. Mutability:\n",
    "# List: Mutable, meaning you can modify, add, or remove elements."
   ]
  },
  {
   "cell_type": "code",
   "execution_count": 15,
   "id": "e470660f-c4a5-4f1c-a16f-56865d177de6",
   "metadata": {},
   "outputs": [
    {
     "name": "stdout",
     "output_type": "stream",
     "text": [
      "[10, 2, 3]\n"
     ]
    },
    {
     "ename": "TypeError",
     "evalue": "'tuple' object does not support item assignment",
     "output_type": "error",
     "traceback": [
      "\u001b[0;31m---------------------------------------------------------------------------\u001b[0m",
      "\u001b[0;31mTypeError\u001b[0m                                 Traceback (most recent call last)",
      "Cell \u001b[0;32mIn[15], line 8\u001b[0m\n\u001b[1;32m      6\u001b[0m \u001b[38;5;66;03m# Tuple\u001b[39;00m\n\u001b[1;32m      7\u001b[0m my_tuple \u001b[38;5;241m=\u001b[39m (\u001b[38;5;241m1\u001b[39m, \u001b[38;5;241m2\u001b[39m, \u001b[38;5;241m3\u001b[39m)\n\u001b[0;32m----> 8\u001b[0m \u001b[43mmy_tuple\u001b[49m\u001b[43m[\u001b[49m\u001b[38;5;241;43m0\u001b[39;49m\u001b[43m]\u001b[49m \u001b[38;5;241m=\u001b[39m \u001b[38;5;241m10\u001b[39m  \u001b[38;5;66;03m# This will raise an error because tuples are immutable\u001b[39;00m\n",
      "\u001b[0;31mTypeError\u001b[0m: 'tuple' object does not support item assignment"
     ]
    }
   ],
   "source": [
    "# List\n",
    "my_list = [1, 2, 3]\n",
    "my_list[0] = 10  # Modifies the first element\n",
    "print(my_list)  # Output: [10, 2, 3]\n",
    "\n",
    "# Tuple\n",
    "my_tuple = (1, 2, 3)\n",
    "my_tuple[0] = 10  # This will raise an error because tuples are immutable"
   ]
  },
  {
   "cell_type": "code",
   "execution_count": 16,
   "id": "286372ab-6a4d-4c31-b278-6f24a820d015",
   "metadata": {},
   "outputs": [],
   "source": [
    "# 2. Syntax:\n",
    "# List: Defined using square brackets [].\n",
    "# Tuple: Defined using parentheses ()."
   ]
  },
  {
   "cell_type": "code",
   "execution_count": 17,
   "id": "f63a1c71-d76f-4a65-92b5-621987a2c775",
   "metadata": {},
   "outputs": [],
   "source": [
    "my_list = [1, 2, 3]\n",
    "my_tuple = (1, 2, 3)"
   ]
  },
  {
   "cell_type": "code",
   "execution_count": 18,
   "id": "e347d29d-9a19-461c-930a-1fb5de78ae16",
   "metadata": {},
   "outputs": [],
   "source": [
    "# 3. Performance:\n",
    "# List: Slightly slower than tuples due to their mutable nature.\n",
    "# Tuple: Faster, as they are immutable and fixed in size.\n",
    "\n",
    "# 4. Use Case:\n",
    "# List: Used when you need a collection of items that can change (e.g., a list of user inputs).\n",
    "# Tuple: Used for fixed collections of items (e.g., coordinates, days of the week)."
   ]
  },
  {
   "cell_type": "markdown",
   "id": "8c77b428-c247-483d-bae9-1f13c6c41d5a",
   "metadata": {},
   "source": [
    "### 5) Describe key features of set and provide examples of their use."
   ]
  },
  {
   "cell_type": "code",
   "execution_count": 19,
   "id": "725f0dc0-163b-4d10-ac87-86960c000cb8",
   "metadata": {},
   "outputs": [],
   "source": [
    "# Key Features of Sets in Python:\n",
    "\n",
    "# Unordered Collection:\n",
    "# Sets are unordered, meaning the elements have no specific order and cannot be accessed via indexing.\n",
    "\n",
    "# Unique Elements:\n",
    "# Sets automatically remove duplicate elements, ensuring all items are unique.\n",
    "\n",
    "# Mutable:\n",
    "# Although the elements of a set must be immutable (like strings, numbers, or tuples), the set itself can \n",
    "# be modified by adding or removing elements.\n",
    "\n",
    "# Set Operations:\n",
    "# Sets support mathematical operations like union, intersection, difference, and symmetric difference."
   ]
  },
  {
   "cell_type": "code",
   "execution_count": 20,
   "id": "1b9e7cdb-af24-44ef-892b-f22ef4da8df0",
   "metadata": {},
   "outputs": [
    {
     "name": "stdout",
     "output_type": "stream",
     "text": [
      "{1, 2, 3, 4}\n",
      "{1, 2, 3, 4, 5}\n",
      "{1, 2, 3, 4, 5}\n",
      "{3}\n",
      "{1, 2}\n"
     ]
    }
   ],
   "source": [
    "# Creating a set\n",
    "my_set = {1, 2, 3, 4, 4}  # Duplicate '4' is automatically removed\n",
    "print(my_set)  # Output: {1, 2, 3, 4}\n",
    "\n",
    "# Adding an element\n",
    "my_set.add(5)\n",
    "print(my_set)  # Output: {1, 2, 3, 4, 5}\n",
    "\n",
    "# Set operations\n",
    "set1 = {1, 2, 3}\n",
    "set2 = {3, 4, 5}\n",
    "\n",
    "# Union\n",
    "print(set1 | set2)  # Output: {1, 2, 3, 4, 5}\n",
    "\n",
    "# Intersection\n",
    "print(set1 & set2)  # Output: {3}\n",
    "\n",
    "# Difference\n",
    "print(set1 - set2)  # Output: {1, 2}"
   ]
  },
  {
   "cell_type": "markdown",
   "id": "c95a38bb-0c84-4ddd-9958-46b2b3a64416",
   "metadata": {},
   "source": [
    "### 6) Discuss the use of tuples and sets in python programming."
   ]
  },
  {
   "cell_type": "code",
   "execution_count": 21,
   "id": "252128a0-ed5b-4cdc-834d-2a6b7bc506e2",
   "metadata": {},
   "outputs": [],
   "source": [
    "# Use of Tuples in Python:\n",
    "\n",
    "# Immutable Collection: Tuples are used to store a fixed sequence of elements. Since they are immutable,\n",
    "# once created, their content cannot be changed. This makes them ideal for storing data that should not \n",
    "# be modified.\n",
    "\n",
    "# Data Integrity: Tuples are often used to represent a collection of related items, like coordinates (x, y, z) \n",
    "# or database records, where immutability ensures data integrity.\n",
    "\n",
    "# Example:"
   ]
  },
  {
   "cell_type": "code",
   "execution_count": 22,
   "id": "da177dc4-460a-4d7c-bc2c-6041efc4445d",
   "metadata": {},
   "outputs": [
    {
     "name": "stdout",
     "output_type": "stream",
     "text": [
      "3\n"
     ]
    }
   ],
   "source": [
    "point = (3, 5)\n",
    "print(point[0])  # Output: 3"
   ]
  },
  {
   "cell_type": "code",
   "execution_count": 23,
   "id": "73e756ef-6571-49dc-9f9d-cabdcad90932",
   "metadata": {},
   "outputs": [],
   "source": [
    "# Use of Sets in Python:\n",
    "\n",
    "# Unique Elements: Sets are used to store collections of unique elements, automatically removing duplicates.\n",
    "\n",
    "# Set Operations: They are ideal for performing mathematical set operations like union, intersection, and \n",
    "# difference, making them useful in scenarios like membership testing, removing duplicates from a list, or \n",
    "# performing quick comparisons between collections."
   ]
  },
  {
   "cell_type": "code",
   "execution_count": 24,
   "id": "089ffac7-ba85-4b5c-a204-f7db13a7654d",
   "metadata": {},
   "outputs": [
    {
     "name": "stdout",
     "output_type": "stream",
     "text": [
      "{1, 2, 3, 4, 5}\n"
     ]
    }
   ],
   "source": [
    "numbers = {1, 2, 3, 4}\n",
    "numbers.add(5)\n",
    "print(numbers)  # Output: {1, 2, 3, 4, 5}"
   ]
  },
  {
   "cell_type": "markdown",
   "id": "0ece747a-bc37-4730-b4d4-4f1344f8912e",
   "metadata": {},
   "source": [
    "### 7) Describe how to add, modify and delete items in a dictionary with examples."
   ]
  },
  {
   "cell_type": "code",
   "execution_count": 26,
   "id": "e3d5b18c-a1b3-4028-a868-8cd3a45ad13b",
   "metadata": {},
   "outputs": [
    {
     "name": "stdout",
     "output_type": "stream",
     "text": [
      "{'name': 'Alice', 'age': 25, 'city': 'New York'}\n"
     ]
    }
   ],
   "source": [
    "# Adding Items:\n",
    "# You can add a new key-value pair to a dictionary by simply assigning a value to a new key.\n",
    "\n",
    "# Example:\n",
    "my_dict = {'name': 'Alice', 'age': 25}\n",
    "my_dict['city'] = 'New York'  # Adds a new key-value pair\n",
    "print(my_dict) "
   ]
  },
  {
   "cell_type": "code",
   "execution_count": 27,
   "id": "6c3e6ff9-bad0-4e19-a8ac-a370d8e07f6b",
   "metadata": {},
   "outputs": [
    {
     "name": "stdout",
     "output_type": "stream",
     "text": [
      "{'name': 'Alice', 'age': 26, 'city': 'New York'}\n"
     ]
    }
   ],
   "source": [
    "# Modifying Items:\n",
    "# You can modify the value of an existing key by reassigning a new value to that key.\n",
    "\n",
    "# Example:\n",
    "my_dict['age'] = 26  # Modifies the value associated with the key 'age'\n",
    "print(my_dict) "
   ]
  },
  {
   "cell_type": "code",
   "execution_count": 28,
   "id": "17f003dd-1d39-4cb3-bbbc-3c8c32c5e731",
   "metadata": {},
   "outputs": [
    {
     "name": "stdout",
     "output_type": "stream",
     "text": [
      "{'name': 'Alice', 'age': 26}\n"
     ]
    }
   ],
   "source": [
    "# Deleting Items:\n",
    "# You can delete a key-value pair using the del statement or the pop() method.\n",
    "\n",
    "# Example with del:\n",
    "del my_dict['city']  # Deletes the key 'city' and its value\n",
    "print(my_dict)  "
   ]
  },
  {
   "cell_type": "code",
   "execution_count": 29,
   "id": "99858ece-0564-49f2-b321-1be732c72f0b",
   "metadata": {},
   "outputs": [
    {
     "name": "stdout",
     "output_type": "stream",
     "text": [
      "{'name': 'Alice'}\n"
     ]
    }
   ],
   "source": [
    "# Example with pop():\n",
    "\n",
    "my_dict.pop('age')  # Removes the key 'age' and returns its value\n",
    "print(my_dict) "
   ]
  },
  {
   "cell_type": "markdown",
   "id": "81ba93d9-1cc5-45aa-b272-e307af7e1235",
   "metadata": {},
   "source": [
    "### 8) Describe importance of dictionary keys being immutable and provide examples."
   ]
  },
  {
   "cell_type": "code",
   "execution_count": 30,
   "id": "b15f3a35-9097-4cee-b437-02c0a7c547d1",
   "metadata": {},
   "outputs": [],
   "source": [
    "# Importance of Dictionary Keys Being Immutable in Python\n",
    "\n",
    "# In Python, dictionary keys must be immutable, meaning they cannot change after being created. \n",
    "# This is crucial because dictionaries use a hash table to store data, and the hash value of a key must\n",
    "# remain constant to retrieve the correct value.\n",
    "\n",
    "# Why is immutability important?\n",
    "\n",
    "# Consistency: If a key were mutable and its value changed, the dictionary wouldn't be able to reliably \n",
    "# locate the associated value, leading to incorrect data retrieval.\n",
    "# Efficiency: Immutable keys allow Python to quickly access values using their hash values."
   ]
  },
  {
   "cell_type": "code",
   "execution_count": 32,
   "id": "639241d2-3c72-4e81-a137-f7a7fc2fe57f",
   "metadata": {},
   "outputs": [],
   "source": [
    "# Valid keys: Strings, numbers, and tuples (which are immutable) can be used as dictionary keys.\n",
    "\n",
    "my_dict = {('a', 1): 'tuple', 'name': 'Alice', 42: 'answer'}"
   ]
  },
  {
   "cell_type": "code",
   "execution_count": 33,
   "id": "bc576105-2f99-47aa-a73c-0e35dbbdb48e",
   "metadata": {},
   "outputs": [
    {
     "ename": "TypeError",
     "evalue": "unhashable type: 'list'",
     "output_type": "error",
     "traceback": [
      "\u001b[0;31m---------------------------------------------------------------------------\u001b[0m",
      "\u001b[0;31mTypeError\u001b[0m                                 Traceback (most recent call last)",
      "Cell \u001b[0;32mIn[33], line 3\u001b[0m\n\u001b[1;32m      1\u001b[0m \u001b[38;5;66;03m# Invalid keys: Lists or other dictionaries (which are mutable) cannot be used as dictionary keys.\u001b[39;00m\n\u001b[0;32m----> 3\u001b[0m my_dict \u001b[38;5;241m=\u001b[39m {[\u001b[38;5;241m1\u001b[39m, \u001b[38;5;241m2\u001b[39m, \u001b[38;5;241m3\u001b[39m]: \u001b[38;5;124m'\u001b[39m\u001b[38;5;124mlist\u001b[39m\u001b[38;5;124m'\u001b[39m}  \u001b[38;5;66;03m# This will raise a TypeError\u001b[39;00m\n",
      "\u001b[0;31mTypeError\u001b[0m: unhashable type: 'list'"
     ]
    }
   ],
   "source": [
    "# Invalid keys: Lists or other dictionaries (which are mutable) cannot be used as dictionary keys.\n",
    "\n",
    "my_dict = {[1, 2, 3]: 'list'}  # This will raise a TypeError"
   ]
  },
  {
   "cell_type": "code",
   "execution_count": null,
   "id": "2df4d5ae-0693-4adb-8470-eeccac3a6628",
   "metadata": {},
   "outputs": [],
   "source": []
  }
 ],
 "metadata": {
  "kernelspec": {
   "display_name": "Python 3 (ipykernel)",
   "language": "python",
   "name": "python3"
  },
  "language_info": {
   "codemirror_mode": {
    "name": "ipython",
    "version": 3
   },
   "file_extension": ".py",
   "mimetype": "text/x-python",
   "name": "python",
   "nbconvert_exporter": "python",
   "pygments_lexer": "ipython3",
   "version": "3.10.8"
  }
 },
 "nbformat": 4,
 "nbformat_minor": 5
}
